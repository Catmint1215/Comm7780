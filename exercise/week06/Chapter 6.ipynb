{
 "cells": [
  {
   "cell_type": "code",
   "execution_count": 2,
   "metadata": {
    "scrolled": true
   },
   "outputs": [],
   "source": [
    "from selenium import webdriver\n",
    "browser = webdriver.Chrome() #C要大写\n",
    "browser.get(\"http://google.com/\")\n",
    "element =  browser.find_element_by_name(\"q\")\n",
    "element.send_keys(\"github python for data and communication gitbook\")\n",
    "element.submit()\n",
    "link = browser.find_element_by_partial_link_text('GitHub - hupili/python-for-data-and-media-communication-gitbook')\n",
    "link.click()\n",
    "#browser.execute_script(\"Window.scrollTo(0,1200);\")\n",
    "notes_links = browser.find_element_by_link_text(\"notes-week-06.md\")\n",
    "notes_links.click()"
   ]
  },
  {
   "cell_type": "code",
   "execution_count": null,
   "metadata": {},
   "outputs": [],
   "source": []
  },
  {
   "cell_type": "code",
   "execution_count": null,
   "metadata": {},
   "outputs": [],
   "source": []
  }
 ],
 "metadata": {
  "kernelspec": {
   "display_name": "Python 3",
   "language": "python",
   "name": "python3"
  },
  "language_info": {
   "codemirror_mode": {
    "name": "ipython",
    "version": 3
   },
   "file_extension": ".py",
   "mimetype": "text/x-python",
   "name": "python",
   "nbconvert_exporter": "python",
   "pygments_lexer": "ipython3",
   "version": "3.6.5"
  }
 },
 "nbformat": 4,
 "nbformat_minor": 2
}
